{
 "cells": [
  {
   "cell_type": "code",
   "execution_count": 8,
   "metadata": {},
   "outputs": [
    {
     "name": "stdout",
     "output_type": "stream",
     "text": [
      "Done\n"
     ]
    }
   ],
   "source": [
    "import os\n",
    "import struct\n",
    "import numpy as np\n",
    "import wave\n",
    "\n",
    "dir_path = \"D:\\\\DataScience\\\\clean2\"\n",
    "output_dir = 'D:\\\\DataScience\\\\clean2\\\\output'\n",
    "\n",
    "# Check if the directory exists, if not create it\n",
    "if not os.path.exists(output_dir):\n",
    "    os.makedirs(output_dir)\n",
    "\n",
    "data_dict = {}\n",
    "\n",
    "for filename in os.listdir(dir_path):\n",
    "    file_path = os.path.join(dir_path, filename)\n",
    "    if os.path.isfile(file_path):\n",
    "        with open(file_path, 'rb') as file:\n",
    "            contents = file.read()\n",
    "    # rest of your code\n",
    "\n",
    "    if len(contents) % 4 != 0:\n",
    "        contents = contents[:-(len(contents) % 4)]\n",
    "    data = struct.unpack('i' * (len(contents) // 4), contents)\n",
    "    data_dict[filename] = list(data)\n",
    "\n",
    "for filename, data in data_dict.items():\n",
    "    np_data = np.array(data)\n",
    "    np_data=np_data.astype(np.float64)\n",
    "  \n",
    "    np_data = (np_data - np_data.min()) / (np_data.max() - np_data.min())\n",
    "    np_data = np_data * (32767 - (-32768)) + (-32768)\n",
    "    np_data = np_data.astype(np.int16)\n",
    "\n",
    "    # Remove the \".08\" extension from the filename\n",
    "    output_filename = os.path.join(output_dir, filename[:-3] + '.wav')\n",
    "    with wave.open(output_filename, 'w') as wav_file:\n",
    "        wav_file.setnchannels(1)\n",
    "        wav_file.setsampwidth(2)\n",
    "        wav_file.setframerate(4000)\n",
    "        wav_file.writeframes(np_data.tobytes())\n",
    "\n",
    "print(\"Done\")\n"
   ]
  },
  {
   "cell_type": "code",
   "execution_count": 9,
   "metadata": {},
   "outputs": [
    {
     "name": "stdout",
     "output_type": "stream",
     "text": [
      "Done\n"
     ]
    }
   ],
   "source": [
    "#read all files from output folder and create a folder with the same name as the file and move the file \n",
    "#group by the first 3 characters of the file name and move the file to the folder\n",
    "\n",
    "import os\n",
    "import shutil\n",
    "\n",
    "output_dir = 'D:\\\\DataScience\\\\clean2\\\\output'\n",
    "\n",
    "for filename in os.listdir(output_dir):\n",
    "    file_path = os.path.join(output_dir, filename)\n",
    "    if os.path.isfile(file_path):\n",
    "        # Get the first 3 characters of the filename\n",
    "        folder_name = filename[:3]\n",
    "        # Create a new folder path\n",
    "        new_folder_path = os.path.join(output_dir, folder_name)\n",
    "        # Check if the directory exists, if not create it\n",
    "        if not os.path.exists(new_folder_path):\n",
    "            os.makedirs(new_folder_path)\n",
    "        # Move the file to the new folder\n",
    "        shutil.move(file_path, new_folder_path)\n",
    "print(\"Done\")\n",
    "\n",
    "\n"
   ]
  },
  {
   "cell_type": "code",
   "execution_count": null,
   "metadata": {},
   "outputs": [],
   "source": []
  }
 ],
 "metadata": {
  "kernelspec": {
   "display_name": ".venv",
   "language": "python",
   "name": "python3"
  },
  "language_info": {
   "codemirror_mode": {
    "name": "ipython",
    "version": 3
   },
   "file_extension": ".py",
   "mimetype": "text/x-python",
   "name": "python",
   "nbconvert_exporter": "python",
   "pygments_lexer": "ipython3",
   "version": "3.10.6"
  }
 },
 "nbformat": 4,
 "nbformat_minor": 2
}
